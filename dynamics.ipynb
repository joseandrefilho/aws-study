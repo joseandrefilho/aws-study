{
 "cells": [
  {
   "cell_type": "markdown",
   "metadata": {},
   "source": [
    "### Ler Arquivo .env para Pegar Credenciais do Dynamics"
   ]
  },
  {
   "cell_type": "code",
   "execution_count": 6,
   "metadata": {},
   "outputs": [
    {
     "name": "stdout",
     "output_type": "stream",
     "text": [
      "Client ID: 645db0f9-bcdc-4306-b54d-1c3fc3f22942\n"
     ]
    }
   ],
   "source": [
    "from dotenv import load_dotenv\n",
    "import os\n",
    "\n",
    "load_dotenv()\n",
    "\n",
    "client_id = os.getenv('DYNAMICS_CLIENT_ID')\n",
    "client_secret = os.getenv('DYNAMICS_CLIENT_SECRET')\n",
    "tenant_id = os.getenv('DYNAMICS_TENANT_ID')\n",
    "dynamics_region = os.getenv('DYNAMICS_REGION')\n",
    "dynamics_instance = os.getenv('DYNAMICS_INSTANCE')\n",
    "\n",
    "\n",
    "print(f\"Client ID: {client_id}\")"
   ]
  },
  {
   "cell_type": "markdown",
   "metadata": {},
   "source": [
    "### Obter Token para o Dynamics usando msal"
   ]
  },
  {
   "cell_type": "code",
   "execution_count": 7,
   "metadata": {},
   "outputs": [
    {
     "name": "stdout",
     "output_type": "stream",
     "text": [
      "Access token obtained successfully.\n"
     ]
    }
   ],
   "source": [
    "import msal\n",
    "\n",
    "# BEGIN: Obter Token para o Dynamics\n",
    "authority_url = f\"https://login.microsoftonline.com/{tenant_id}\"\n",
    "app = msal.ConfidentialClientApplication(\n",
    "    client_id,\n",
    "    authority=authority_url,\n",
    "    client_credential=client_secret,\n",
    ")\n",
    "\n",
    "token_response = app.acquire_token_for_client(scopes=[f\"https://{dynamics_instance}.{dynamics_region}.dynamics.com/.default\"])\n",
    "\n",
    "if \"access_token\" in token_response:\n",
    "    access_token = token_response[\"access_token\"]\n",
    "    print(\"Access token obtained successfully.\")\n",
    "else:\n",
    "    print(\"Failed to obtain access token.\")\n",
    "    print(token_response)\n",
    "# END: Obter Token para o Dynamics"
   ]
  },
  {
   "cell_type": "markdown",
   "metadata": {},
   "source": [
    "### Obter dados do dynamics"
   ]
  },
  {
   "cell_type": "code",
   "execution_count": 12,
   "metadata": {},
   "outputs": [
    {
     "name": "stdout",
     "output_type": "stream",
     "text": [
      "Dados obtidos com sucesso.\n",
      "[{'@odata.etag': 'W/\"2273635\"', 'fullname': 'Jose Andre Filho', 'contactid': '51d7826d-ba70-ef11-a670-000d3a34929e'}]\n"
     ]
    }
   ],
   "source": [
    "import requests\n",
    "\n",
    "# BEGIN: Obter dados do Dynamics\n",
    "dynamics_api_url = f\"https://{dynamics_instance}.{dynamics_region}.dynamics.com/api/data/v9.0/contacts?$select=fullname\"\n",
    "\n",
    "headers = {\n",
    "    \"Authorization\": f\"Bearer {access_token}\",\n",
    "    \"Content-Type\": \"application/json\",\n",
    "    \"OData-MaxVersion\": \"4.0\",\n",
    "    \"OData-Version\": \"4.0\",\n",
    "    \"Prefer\": 'odata.include-annotations=\"*\"'\n",
    "}\n",
    "\n",
    "response = requests.get(dynamics_api_url, headers=headers)\n",
    "\n",
    "if response.status_code == 200:\n",
    "    dynamics_data = response.json()[\"value\"]\n",
    "    print(\"Dados obtidos com sucesso.\")\n",
    "    print(dynamics_data)\n",
    "else:\n",
    "    print(\"Falha ao obter dados.\")\n",
    "    print(response.status_code, response.text)\n",
    "# END: Obter dados do Dynamics"
   ]
  },
  {
   "cell_type": "code",
   "execution_count": 14,
   "metadata": {},
   "outputs": [
    {
     "name": "stdout",
     "output_type": "stream",
     "text": [
      "Dados gravados com sucesso no arquivo dynamics_data.parquet\n"
     ]
    }
   ],
   "source": [
    "import pandas as pd\n",
    "\n",
    "# Converter dynamics_data para DataFrame\n",
    "df_dynamics = pd.DataFrame(dynamics_data)\n",
    "\n",
    "# Selecionar somente as colunas fullname e contactid\n",
    "df_dynamics = df_dynamics[['fullname', 'contactid']]\n",
    "\n",
    "# Gravar o DataFrame em um arquivo Parquet\n",
    "df_dynamics.to_parquet('dynamics_data.parquet', index=False)\n",
    "\n",
    "print(\"Dados gravados com sucesso no arquivo dynamics_data.parquet\")"
   ]
  }
 ],
 "metadata": {
  "kernelspec": {
   "display_name": "env",
   "language": "python",
   "name": "python3"
  },
  "language_info": {
   "codemirror_mode": {
    "name": "ipython",
    "version": 3
   },
   "file_extension": ".py",
   "mimetype": "text/x-python",
   "name": "python",
   "nbconvert_exporter": "python",
   "pygments_lexer": "ipython3",
   "version": "3.12.6"
  }
 },
 "nbformat": 4,
 "nbformat_minor": 2
}
